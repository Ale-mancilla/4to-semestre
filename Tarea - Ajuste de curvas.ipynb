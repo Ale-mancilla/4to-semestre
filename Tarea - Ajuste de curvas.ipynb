{
 "cells": [
  {
   "cell_type": "markdown",
   "metadata": {},
   "source": [
    "# Tarea - Ajuste de curvas"
   ]
  },
  {
   "cell_type": "code",
   "execution_count": 2,
   "metadata": {},
   "outputs": [],
   "source": [
    "import numpy as np\n",
    "import pandas as pd\n",
    "import matplotlib.pyplot as plt"
   ]
  },
  {
   "cell_type": "markdown",
   "metadata": {},
   "source": [
    "---\n",
    "### Problema 1\n",
    "\n",
    "Los siguientes datos representan el costo en dólares de la electricidad según Western Electricity Coordinating Council desde el 2014 (y su pronóstico para el 2040)\n",
    "\n",
    "Tomado de:\n",
    "https://www.quandl.com/data/EIA/AEO_2016_REF_NO_CPP_PRCE_NA_COMM_NA_ELC_NA_WECCRKS_NCNTPKWH_A-Electricity-End-Use-Prices-Commercial-Western-Electricity-Coordinating-Council-Rockies-No-CPP-AEO2016"
   ]
  },
  {
   "cell_type": "code",
   "execution_count": 3,
   "metadata": {},
   "outputs": [],
   "source": [
    "# Datos extraidos de la página de quandl\n",
    "data = np.array([10.051101,  9.259127,  9.444813,  9.557723,  9.977324, 10.298326,\n",
    "       10.447217, 10.550506, 10.590784, 10.657418, 10.743085, 10.831965,\n",
    "       10.988435, 11.153055, 11.313326, 11.557165, 11.860136, 12.122511,\n",
    "       12.356448, 12.611391, 12.814569, 13.111372, 13.357134, 13.559012,\n",
    "       13.85861 , 14.135924, 14.436149])"
   ]
  },
  {
   "cell_type": "markdown",
   "metadata": {},
   "source": [
    "1. Ajuste estos datos a polinomios de grado 1 hasta 3 (los datos en $x$ corresponden a los años de 2014 a 2040, sin embargo son valores muy grandes para elevarlos a una potencia, use una representación para estos años, por ejemplo $2014 \\rightarrow 0$ y $2040\\rightarrow 26$).\n",
    "\n",
    "2. Muestre las tres curvas ajustadas junto a los datos de los costos en un solo gráfico"
   ]
  },
  {
   "cell_type": "code",
   "execution_count": 160,
   "metadata": {},
   "outputs": [
    {
     "data": {
      "text/html": [
       "<div>\n",
       "<style scoped>\n",
       "    .dataframe tbody tr th:only-of-type {\n",
       "        vertical-align: middle;\n",
       "    }\n",
       "\n",
       "    .dataframe tbody tr th {\n",
       "        vertical-align: top;\n",
       "    }\n",
       "\n",
       "    .dataframe thead th {\n",
       "        text-align: right;\n",
       "    }\n",
       "</style>\n",
       "<table border=\"1\" class=\"dataframe\">\n",
       "  <thead>\n",
       "    <tr style=\"text-align: right;\">\n",
       "      <th></th>\n",
       "      <th>Año</th>\n",
       "      <th>Costo electricidad</th>\n",
       "    </tr>\n",
       "  </thead>\n",
       "  <tbody>\n",
       "    <tr>\n",
       "      <th>0</th>\n",
       "      <td>1</td>\n",
       "      <td>10.051101</td>\n",
       "    </tr>\n",
       "    <tr>\n",
       "      <th>1</th>\n",
       "      <td>2</td>\n",
       "      <td>9.259127</td>\n",
       "    </tr>\n",
       "    <tr>\n",
       "      <th>2</th>\n",
       "      <td>3</td>\n",
       "      <td>9.444813</td>\n",
       "    </tr>\n",
       "    <tr>\n",
       "      <th>3</th>\n",
       "      <td>4</td>\n",
       "      <td>9.557723</td>\n",
       "    </tr>\n",
       "    <tr>\n",
       "      <th>4</th>\n",
       "      <td>5</td>\n",
       "      <td>9.977324</td>\n",
       "    </tr>\n",
       "    <tr>\n",
       "      <th>5</th>\n",
       "      <td>6</td>\n",
       "      <td>10.298326</td>\n",
       "    </tr>\n",
       "  </tbody>\n",
       "</table>\n",
       "</div>"
      ],
      "text/plain": [
       "   Año  Costo electricidad\n",
       "0    1           10.051101\n",
       "1    2            9.259127\n",
       "2    3            9.444813\n",
       "3    4            9.557723\n",
       "4    5            9.977324\n",
       "5    6           10.298326"
      ]
     },
     "execution_count": 160,
     "metadata": {},
     "output_type": "execute_result"
    }
   ],
   "source": [
    "i = np.arange(27)\n",
    "df =pd.DataFrame(index=i,columns=[\"Año\", \"Costo electricidad\"])\n",
    "df[\"Año\"]= [1, 2, 3, 4, 5, 6, 7, 8, 9, 10, 11, 12, 13, 14, 15,\n",
    "            16, 17, 18, 19, 20, 21, 22, 23, 24, 25, 26, 27] #1 =2014 y 27 año 2040\n",
    "df[\"Costo electricidad\"]= [10.051101,  9.259127,  9.444813,  9.557723,  9.977324, 10.298326,\n",
    "       10.447217, 10.550506, 10.590784, 10.657418, 10.743085, 10.831965,\n",
    "       10.988435, 11.153055, 11.313326, 11.557165, 11.860136, 12.122511,\n",
    "       12.356448, 12.611391, 12.814569, 13.111372, 13.357134, 13.559012,\n",
    "       13.85861 , 14.135924, 14.436149]\n",
    "df.head(6)"
   ]
  },
  {
   "cell_type": "code",
   "execution_count": 161,
   "metadata": {},
   "outputs": [
    {
     "data": {
      "image/png": "[encoded data removed]",
      "text/plain": [
       "<Figure size 432x288 with 1 Axes>"
      ]
     },
     "metadata": {
      "needs_background": "light"
     },
     "output_type": "display_data"
    }
   ],
   "source": [
    "x= df[\"Año\"]\n",
    "y= df[\"Costo electricidad\"]\n",
    "plt.figure()\n",
    "plt.scatter(x,y, s=30)\n",
    "plt.grid()"
   ]
  },
  {
   "cell_type": "code",
   "execution_count": 162,
   "metadata": {},
   "outputs": [
    {
     "data": {
      "text/plain": [
       "9.259127"
      ]
     },
     "execution_count": 162,
     "metadata": {},
     "output_type": "execute_result"
    }
   ],
   "source": [
    "df[\"Costo electricidad\"].min()"
   ]
  },
  {
   "cell_type": "code",
   "execution_count": 163,
   "metadata": {},
   "outputs": [
    {
     "data": {
      "text/plain": [
       "(66, 4)"
      ]
     },
     "execution_count": 163,
     "metadata": {},
     "output_type": "execute_result"
    }
   ],
   "source": [
    "data.shape"
   ]
  },
  {
   "cell_type": "code",
   "execution_count": 164,
   "metadata": {},
   "outputs": [
    {
     "data": {
      "text/plain": [
       "      fun: 2.3704889518157075\n",
       " hess_inv: array([[ 0.07834758, -0.0042735 ],\n",
       "       [-0.0042735 ,  0.00030525]])\n",
       "      jac: array([1.19209290e-07, 3.57627869e-07])\n",
       "  message: 'Optimization terminated successfully.'\n",
       "     nfev: 15\n",
       "      nit: 3\n",
       "     njev: 5\n",
       "   status: 0\n",
       "  success: True\n",
       "        x: array([8.92900583, 0.18667055])"
      ]
     },
     "execution_count": 164,
     "metadata": {},
     "output_type": "execute_result"
    }
   ],
   "source": [
    "def funcion_de_costo_1(theta,x,y):\n",
    "    prediccion = (theta[0] + theta[1]*x)\n",
    "    error = y - prediccion\n",
    "    error_2 = error**2\n",
    "    return np.sum(error_2)\n",
    "\n",
    "theta_inicial_1 = np.random.rand(2)\n",
    "sol = opt.minimize(funcion_de_costo_1,theta_inicial_1,args=(x, y))\n",
    "\n",
    "costo_1 = sol.fun\n",
    "resultados_1 = sol.x\n",
    "sol"
   ]
  },
  {
   "cell_type": "code",
   "execution_count": 165,
   "metadata": {},
   "outputs": [
    {
     "data": {
      "text/plain": [
       "      fun: 0.8443845212975816\n",
       " hess_inv: array([[ 1.94017093e-01, -2.82051280e-02,  8.54700848e-04],\n",
       "       [-2.82051280e-02,  5.25662074e-03, -1.76834658e-04],\n",
       "       [ 8.54700848e-04, -1.76834658e-04,  6.31552352e-06]])\n",
       "      jac: array([-1.86264515e-07, -6.33299351e-07, -4.91738319e-07])\n",
       "  message: 'Optimization terminated successfully.'\n",
       "     nfev: 32\n",
       "      nit: 5\n",
       "     njev: 8\n",
       "   status: 0\n",
       "  success: True\n",
       "        x: array([9.52314623e+00, 6.37449477e-02, 4.39020017e-03])"
      ]
     },
     "execution_count": 165,
     "metadata": {},
     "output_type": "execute_result"
    }
   ],
   "source": [
    "def funcion_de_costo_2(theta,x,y):\n",
    "    prediccion = (theta[0] + theta[1]*x + theta[2]*x**2)\n",
    "    error = y - prediccion\n",
    "    error_2 = error**2\n",
    "    return np.sum(error_2)\n",
    "\n",
    "theta_inicial_2 = np.random.rand(3)\n",
    "sol = opt.minimize(funcion_de_costo_2,\n",
    "                   theta_inicial_2,\n",
    "                   args=(x, y))\n",
    "\n",
    "costo_2 = sol.fun\n",
    "resultados_2 = sol.x\n",
    "sol"
   ]
  },
  {
   "cell_type": "code",
   "execution_count": 166,
   "metadata": {},
   "outputs": [
    {
     "data": {
      "text/plain": [
       "      fun: 0.8404497314382697\n",
       " hess_inv: array([[ 3.96438577e-01, -1.07811074e-01,  7.83476187e-03,\n",
       "        -1.66191879e-04],\n",
       "       [-1.07811074e-01,  3.65626790e-02, -2.92182468e-03,\n",
       "         6.53568399e-05],\n",
       "       [ 7.83476187e-03, -2.92182468e-03,  2.47001771e-04,\n",
       "        -5.73060200e-06],\n",
       "       [-1.66191879e-04,  6.53568399e-05, -5.73060200e-06,\n",
       "         1.36442050e-07]])\n",
       "      jac: array([ 0.00000000e+00, -7.45058060e-09,  7.45058060e-09,  8.19563866e-08])\n",
       "  message: 'Optimization terminated successfully.'\n",
       "     nfev: 100\n",
       "      nit: 10\n",
       "     njev: 20\n",
       "   status: 0\n",
       "  success: True\n",
       "        x: array([9.48692553e+00, 7.79893819e-02, 3.14121002e-03, 2.97378618e-05])"
      ]
     },
     "execution_count": 166,
     "metadata": {},
     "output_type": "execute_result"
    }
   ],
   "source": [
    "def funcion_de_costo_3(theta,x,y):\n",
    "    prediccion = (theta[0] + theta[1]*x + theta[2]*x**2 + theta[3]*x**3)\n",
    "    error = y - prediccion\n",
    "    error_2 = error**2\n",
    "    return np.sum(error_2)\n",
    "\n",
    "theta_inicial_3 = np.random.rand(4)\n",
    "sol = opt.minimize(funcion_de_costo_3,\n",
    "                    theta_inicial_3,\n",
    "                    args=(x, y))\n",
    "#los argumentos son los que estan después de theta en la funcion de costo\n",
    "costo_3 = sol.fun\n",
    "resultados_3 = sol.x\n",
    "sol"
   ]
  },
  {
   "cell_type": "code",
   "execution_count": 167,
   "metadata": {},
   "outputs": [
    {
     "data": {
      "text/plain": [
       "<matplotlib.legend.Legend at 0x21ea833ba60>"
      ]
     },
     "execution_count": 167,
     "metadata": {},
     "output_type": "execute_result"
    },
    {
     "data": {
      "image/png": "[encoded data removed]",
      "text/plain": [
       "<Figure size 432x288 with 1 Axes>"
      ]
     },
     "metadata": {
      "needs_background": "light"
     },
     "output_type": "display_data"
    }
   ],
   "source": [
    "xn= np.linspace(1,30,200)\n",
    "yn1 = resultados_1[0]+ resultados_1[1]*xn\n",
    "yn2 = resultados_2[0]+ resultados_2[1]*xn + resultados_2[2]*xn**2\n",
    "yn3 = resultados_3[0]+ resultados_3[1]*xn + resultados_3[2]*xn**2  + resultados_3[3]*xn**3\n",
    "\n",
    "import matplotlib.pyplot as plt\n",
    "plt.figure()\n",
    "plt.scatter(x,y, s=5)\n",
    "plt.plot(xn, yn2, label= \"lineal\")\n",
    "plt.plot(xn, yn2, label= \"cuadrada\")\n",
    "plt.plot(xn, yn2, label= \"cubo\")\n",
    "plt.legend(loc=\"best\")"
   ]
  },
  {
   "cell_type": "markdown",
   "metadata": {},
   "source": [
    "---"
   ]
  },
  {
   "cell_type": "markdown",
   "metadata": {},
   "source": [
    "___\n",
    "### Problema 2\n",
    "\n",
    "El archivo `population_data.csv` contiene información histórica anual de México relativa a la población, nacimientos y muertes desde el año 1950 hasta el año 2015. La primer columna corresponde a los años, la segunda a la población, la tercera a los nacimientos y la última a los decesos.\n",
    "\n",
    "Tomado de: https://en.wikipedia.org/wiki/Demographics_of_Mexico.\n",
    "\n",
    "Importe estos datos usando la función `read_csv` del paquete `pandas`\n",
    "\n",
    "1. Usando los años como variable independiente $x$ y la población como variable dependiente $y$, ajustar polinomios de grado 1 hasta grado 3.\n",
    "\n",
    "    * Mostrar en un solo gráfico los datos de población contra los años, y los polinomios ajustados.\n",
    "\n",
    "    * Graficar el error cuadrático acumulado contra el número de términos.\n",
    "\n",
    "2. Repetir el punto 1 usando los nacimientos como variable dependiente $y$. Grafique las curvas ajustadas junto con los datos de nacimientos. Vea en un gráfico el error acumulado."
   ]
  },
  {
   "cell_type": "code",
   "execution_count": 221,
   "metadata": {
    "scrolled": true
   },
   "outputs": [
    {
     "data": {
      "image/png": "[encoded data removed]",
      "text/plain": [
       "<Figure size 432x288 with 1 Axes>"
      ]
     },
     "metadata": {
      "needs_background": "light"
     },
     "output_type": "display_data"
    }
   ],
   "source": [
    "# Se muestra la gráfica. Vea como los datos son escalados, esto le ayudará en el cálculo\n",
    "# de la regresión.\n",
    "\n",
    "plt.plot(data.values[:,0],data.values[:,1]/1000,label=data.columns[1]+' en miles')\n",
    "plt.plot(data.values[:,0],data.values[:,2]/10000,'r',label=data.columns[2]+' en decenas de miles')\n",
    "plt.legend(loc=2)\n",
    "plt.xlabel(data.columns[0])\n",
    "plt.grid()"
   ]
  },
  {
   "cell_type": "code",
   "execution_count": 263,
   "metadata": {},
   "outputs": [
    {
     "data": {
      "text/html": [
       "<div>\n",
       "<style scoped>\n",
       "    .dataframe tbody tr th:only-of-type {\n",
       "        vertical-align: middle;\n",
       "    }\n",
       "\n",
       "    .dataframe tbody tr th {\n",
       "        vertical-align: top;\n",
       "    }\n",
       "\n",
       "    .dataframe thead th {\n",
       "        text-align: right;\n",
       "    }\n",
       "</style>\n",
       "<table border=\"1\" class=\"dataframe\">\n",
       "  <thead>\n",
       "    <tr style=\"text-align: right;\">\n",
       "      <th></th>\n",
       "      <th>Year</th>\n",
       "      <th>Poblacion</th>\n",
       "      <th>Nacimientos</th>\n",
       "      <th>Decesos</th>\n",
       "    </tr>\n",
       "  </thead>\n",
       "  <tbody>\n",
       "    <tr>\n",
       "      <th>0</th>\n",
       "      <td>1950</td>\n",
       "      <td>28296</td>\n",
       "      <td>1174947</td>\n",
       "      <td>418430</td>\n",
       "    </tr>\n",
       "    <tr>\n",
       "      <th>1</th>\n",
       "      <td>1951</td>\n",
       "      <td>29110</td>\n",
       "      <td>1183788</td>\n",
       "      <td>458238</td>\n",
       "    </tr>\n",
       "    <tr>\n",
       "      <th>2</th>\n",
       "      <td>1952</td>\n",
       "      <td>29980</td>\n",
       "      <td>1195209</td>\n",
       "      <td>408823</td>\n",
       "    </tr>\n",
       "    <tr>\n",
       "      <th>3</th>\n",
       "      <td>1953</td>\n",
       "      <td>30904</td>\n",
       "      <td>1261775</td>\n",
       "      <td>446127</td>\n",
       "    </tr>\n",
       "    <tr>\n",
       "      <th>4</th>\n",
       "      <td>1954</td>\n",
       "      <td>31880</td>\n",
       "      <td>1339837</td>\n",
       "      <td>378752</td>\n",
       "    </tr>\n",
       "  </tbody>\n",
       "</table>\n",
       "</div>"
      ],
      "text/plain": [
       "   Year  Poblacion  Nacimientos  Decesos\n",
       "0  1950      28296      1174947   418430\n",
       "1  1951      29110      1183788   458238\n",
       "2  1952      29980      1195209   408823\n",
       "3  1953      30904      1261775   446127\n",
       "4  1954      31880      1339837   378752"
      ]
     },
     "execution_count": 263,
     "metadata": {},
     "output_type": "execute_result"
    }
   ],
   "source": [
    "data = pd.read_csv(\"population_data.csv\")\n",
    "data.head()"
   ]
  },
  {
   "cell_type": "markdown",
   "metadata": {},
   "source": [
    "## Regresión lineal "
   ]
  },
  {
   "cell_type": "code",
   "execution_count": 264,
   "metadata": {
    "scrolled": true
   },
   "outputs": [
    {
     "data": {
      "image/png": "[encoded data removed]",
      "text/plain": [
       "<Figure size 432x288 with 1 Axes>"
      ]
     },
     "metadata": {
      "needs_background": "light"
     },
     "output_type": "display_data"
    }
   ],
   "source": [
    "x= data[\"Year\"]-1950\n",
    "y= data[\"Poblacion\"]\n",
    "plt.figure()\n",
    "plt.scatter(x + 1950,y,s=5)\n",
    "plt.grid()"
   ]
  },
  {
   "cell_type": "markdown",
   "metadata": {},
   "source": [
    "---"
   ]
  },
  {
   "cell_type": "code",
   "execution_count": 265,
   "metadata": {},
   "outputs": [
    {
     "data": {
      "text/plain": [
       "      fun: 212137169.56280482\n",
       " hess_inv: array([[ 9.79029560e-03, -2.23319816e-04],\n",
       "       [-2.23319816e-04,  1.04379124e-05]])\n",
       "      jac: array([0., 0.])\n",
       "  message: 'Optimization terminated successfully.'\n",
       "     nfev: 69\n",
       "      nit: 9\n",
       "     njev: 23\n",
       "   status: 0\n",
       "  success: True\n",
       "        x: array([24137.98270496,  1543.97415565])"
      ]
     },
     "execution_count": 265,
     "metadata": {},
     "output_type": "execute_result"
    }
   ],
   "source": [
    "def funcion_de_costo_1(theta, x, y) :\n",
    "    prediccion = theta[0] + theta[1]*x\n",
    "    error = y - prediccion\n",
    "    error_2 = error**2\n",
    "    return np.sum(error_2)\n",
    "\n",
    "theta_inicial_1 = np.random.rand(2)\n",
    "sol = opt.minimize(funcion_de_costo_1,\n",
    "                   theta_inicial_1,\n",
    "                   args=(x, y))\n",
    "#los argumentos son los que estan después de theta en la función de costo\n",
    "costo_1 = sol.fun\n",
    "resultados_1 = sol.x\n",
    "sol"
   ]
  },
  {
   "cell_type": "code",
   "execution_count": 267,
   "metadata": {},
   "outputs": [
    {
     "data": {
      "text/plain": [
       "      fun: 210941621.45650625\n",
       " hess_inv: array([[ 1.05731280e-01, -6.42864382e-03,  8.16151797e-05],\n",
       "       [-6.42864382e-03,  4.76291987e-04, -6.59258122e-06],\n",
       "       [ 8.16151797e-05, -6.59258122e-06,  9.61869271e-08]])\n",
       "      jac: array([0., 0., 0.])\n",
       "  message: 'Optimization terminated successfully.'\n",
       "     nfev: 48\n",
       "      nit: 9\n",
       "     njev: 12\n",
       "   status: 0\n",
       "  success: True\n",
       "        x: array([2.44256281e+04, 1.51701096e+03, 4.14800919e-01])"
      ]
     },
     "execution_count": 267,
     "metadata": {},
     "output_type": "execute_result"
    }
   ],
   "source": [
    "def funcion_de_costo_2(theta, x, y) :\n",
    "    prediccion = theta[0] + theta[1]*x + theta[2]*x**2\n",
    "    error = y - prediccion\n",
    "    error_2 = error**2\n",
    "    return np.sum(error_2)\n",
    "\n",
    "theta_inicial_2 = np.random.rand(3)\n",
    "sol = opt.minimize(funcion_de_costo_2,\n",
    "                   theta_inicial_2,\n",
    "                   args=(x, y))\n",
    "#los argumentos son los que estan después de theta en la función de costo\n",
    "costo_2 = sol.fun\n",
    "resultados_2 = sol.x\n",
    "sol"
   ]
  },
  {
   "cell_type": "code",
   "execution_count": 269,
   "metadata": {},
   "outputs": [
    {
     "data": {
      "text/plain": [
       "      fun: 25240442.63793197\n",
       " hess_inv: array([[ 1.12078943e-05, -2.34607488e-05,  1.12834738e-06,\n",
       "        -1.25118888e-08],\n",
       "       [-2.34607488e-05,  4.95749765e-04, -2.26683549e-05,\n",
       "         2.42146803e-07],\n",
       "       [ 1.12834738e-06, -2.26683549e-05,  1.11100927e-06,\n",
       "        -1.23995501e-08],\n",
       "       [-1.25118888e-08,  2.42146803e-07, -1.23995501e-08,\n",
       "         1.42603145e-10]])\n",
       "      jac: array([0.  , 0.5 , 0.  , 0.75])\n",
       "  message: 'Desired error not necessarily achieved due to precision loss.'\n",
       "     nfev: 367\n",
       "      nit: 8\n",
       "     njev: 71\n",
       "   status: 2\n",
       "  success: False\n",
       "        x: array([ 2.84777405e+04,  7.39081040e+02,  3.05648144e+01, -3.09231352e-01])"
      ]
     },
     "execution_count": 269,
     "metadata": {},
     "output_type": "execute_result"
    }
   ],
   "source": [
    "def funcion_de_costo_3(theta, x, y) :\n",
    "    prediccion = theta[0] + theta[1]*x + theta[2]*x**2 + theta[3]*x**3\n",
    "    error = y - prediccion\n",
    "    error_2 = error**2\n",
    "    return np.sum(error_2)\n",
    "\n",
    "theta_inicial_3 = np.random.rand(4)\n",
    "sol = opt.minimize(funcion_de_costo_3,\n",
    "                   theta_inicial_3,\n",
    "                   args=(x, y))\n",
    "\n",
    "costo_3 = sol.fun\n",
    "resultados_3 = sol.x\n",
    "sol"
   ]
  },
  {
   "cell_type": "code",
   "execution_count": 270,
   "metadata": {
    "scrolled": false
   },
   "outputs": [
    {
     "data": {
      "text/plain": [
       "<matplotlib.legend.Legend at 0x21eab691940>"
      ]
     },
     "execution_count": 270,
     "metadata": {},
     "output_type": "execute_result"
    },
    {
     "data": {
      "image/png": "[encoded data removed]",
      "text/plain": [
       "<Figure size 432x288 with 1 Axes>"
      ]
     },
     "metadata": {
      "needs_background": "light"
     },
     "output_type": "display_data"
    }
   ],
   "source": [
    "xn= np.linspace(1,65,100)\n",
    "yn1 = resultados_1[0]+ resultados_1[1]*xn\n",
    "yn2 = resultados_2[0]+ resultados_2[1]*xn + resultados_2[2]*xn**2\n",
    "yn3 = resultados_3[0]+ resultados_3[1]*xn + resultados_3[2]*xn**2 +  resultados_3[3]*xn**3\n",
    "\n",
    "import matplotlib.pyplot as plt\n",
    "plt.figure()\n",
    "plt.scatter(x,y, s=5)\n",
    "plt.plot(xn, yn2, label= \"lineal\")\n",
    "plt.plot(xn, yn2, label= \"cuadrado\")\n",
    "plt.plot(xn, yn2, label= \"cubo\")\n",
    "plt.legend(loc=\"best\")"
   ]
  },
  {
   "cell_type": "code",
   "execution_count": 271,
   "metadata": {},
   "outputs": [
    {
     "data": {
      "text/plain": [
       "<function matplotlib.pyplot.grid(b=None, which='major', axis='both', **kwargs)>"
      ]
     },
     "execution_count": 271,
     "metadata": {},
     "output_type": "execute_result"
    },
    {
     "data": {
      "image/png": "[encoded data removed]",
      "text/plain": [
       "<Figure size 432x288 with 1 Axes>"
      ]
     },
     "metadata": {
      "needs_background": "light"
     },
     "output_type": "display_data"
    }
   ],
   "source": [
    "plt.figure()\n",
    "plt.bar([1,2,3],[costo_1,costo_2,costo_3])\n",
    "plt.grid"
   ]
  },
  {
   "cell_type": "markdown",
   "metadata": {},
   "source": [
    "2. Repetir el punto 1 usando los nacimientos como variable dependiente $y$. Grafique las curvas ajustadas junto con los datos de nacimientos. Vea en un gráfico el error acumulado."
   ]
  },
  {
   "cell_type": "code",
   "execution_count": 272,
   "metadata": {},
   "outputs": [
    {
     "data": {
      "text/html": [
       "<div>\n",
       "<style scoped>\n",
       "    .dataframe tbody tr th:only-of-type {\n",
       "        vertical-align: middle;\n",
       "    }\n",
       "\n",
       "    .dataframe tbody tr th {\n",
       "        vertical-align: top;\n",
       "    }\n",
       "\n",
       "    .dataframe thead th {\n",
       "        text-align: right;\n",
       "    }\n",
       "</style>\n",
       "<table border=\"1\" class=\"dataframe\">\n",
       "  <thead>\n",
       "    <tr style=\"text-align: right;\">\n",
       "      <th></th>\n",
       "      <th>Year</th>\n",
       "      <th>Poblacion</th>\n",
       "      <th>Nacimientos</th>\n",
       "      <th>Decesos</th>\n",
       "    </tr>\n",
       "  </thead>\n",
       "  <tbody>\n",
       "    <tr>\n",
       "      <th>0</th>\n",
       "      <td>1950</td>\n",
       "      <td>28296</td>\n",
       "      <td>1174947</td>\n",
       "      <td>418430</td>\n",
       "    </tr>\n",
       "    <tr>\n",
       "      <th>1</th>\n",
       "      <td>1951</td>\n",
       "      <td>29110</td>\n",
       "      <td>1183788</td>\n",
       "      <td>458238</td>\n",
       "    </tr>\n",
       "    <tr>\n",
       "      <th>2</th>\n",
       "      <td>1952</td>\n",
       "      <td>29980</td>\n",
       "      <td>1195209</td>\n",
       "      <td>408823</td>\n",
       "    </tr>\n",
       "    <tr>\n",
       "      <th>3</th>\n",
       "      <td>1953</td>\n",
       "      <td>30904</td>\n",
       "      <td>1261775</td>\n",
       "      <td>446127</td>\n",
       "    </tr>\n",
       "    <tr>\n",
       "      <th>4</th>\n",
       "      <td>1954</td>\n",
       "      <td>31880</td>\n",
       "      <td>1339837</td>\n",
       "      <td>378752</td>\n",
       "    </tr>\n",
       "  </tbody>\n",
       "</table>\n",
       "</div>"
      ],
      "text/plain": [
       "   Year  Poblacion  Nacimientos  Decesos\n",
       "0  1950      28296      1174947   418430\n",
       "1  1951      29110      1183788   458238\n",
       "2  1952      29980      1195209   408823\n",
       "3  1953      30904      1261775   446127\n",
       "4  1954      31880      1339837   378752"
      ]
     },
     "execution_count": 272,
     "metadata": {},
     "output_type": "execute_result"
    }
   ],
   "source": [
    "data_problema_2 = pd.read_csv(\"population_data.csv\")\n",
    "data_problema_2.head()"
   ]
  },
  {
   "cell_type": "code",
   "execution_count": 273,
   "metadata": {},
   "outputs": [
    {
     "data": {
      "image/png": "[encoded data removed]",
      "text/plain": [
       "<Figure size 432x288 with 1 Axes>"
      ]
     },
     "metadata": {
      "needs_background": "light"
     },
     "output_type": "display_data"
    }
   ],
   "source": [
    "x= data_problema_2[\"Year\"]-1950\n",
    "y= data_problema_2[\"Nacimientos\"]\n",
    "plt.figure()\n",
    "plt.scatter(x + 1950,y,s=5)\n",
    "plt.grid()"
   ]
  },
  {
   "cell_type": "code",
   "execution_count": 274,
   "metadata": {},
   "outputs": [
    {
     "data": {
      "text/plain": [
       "      fun: 4737915727643.264\n",
       " hess_inv: array([[ 3.03139803e-02, -6.93189577e-04],\n",
       "       [-6.93189577e-04,  2.11923581e-05]])\n",
       "      jac: array([0., 0.])\n",
       "  message: 'Optimization terminated successfully.'\n",
       "     nfev: 42\n",
       "      nit: 5\n",
       "     njev: 14\n",
       "   status: 0\n",
       "  success: True\n",
       "        x: array([1563444.44718747,   21966.38495936])"
      ]
     },
     "execution_count": 274,
     "metadata": {},
     "output_type": "execute_result"
    }
   ],
   "source": [
    "def funcion_de_costo_1(theta, x, y) :\n",
    "    prediccion = theta[0] + theta[1]*x\n",
    "    error = y - prediccion\n",
    "    error_2 = error**2\n",
    "    return np.sum(error_2)\n",
    "\n",
    "theta_inicial_1 = np.random.rand(2)\n",
    "sol = opt.minimize(funcion_de_costo_1,\n",
    "                   theta_inicial_1,\n",
    "                   args=(x, y))\n",
    "#los argumentos son los que estan después de theta en la función de costo\n",
    "costo_1 = sol.fun\n",
    "resultados_1 = sol.x\n",
    "sol"
   ]
  },
  {
   "cell_type": "code",
   "execution_count": 275,
   "metadata": {},
   "outputs": [
    {
     "data": {
      "text/plain": [
       "      fun: 492921158544.68695\n",
       " hess_inv: array([[ 6.52186680e-02, -4.00389857e-03,  5.09780532e-05],\n",
       "       [-4.00389857e-03,  3.30185402e-04, -4.73452237e-06],\n",
       "       [ 5.09780532e-05, -4.73452237e-06,  7.24330869e-08]])\n",
       "      jac: array([0., 0., 0.])\n",
       "  message: 'Optimization terminated successfully.'\n",
       "     nfev: 72\n",
       "      nit: 9\n",
       "     njev: 18\n",
       "   status: 0\n",
       "  success: True\n",
       "        x: array([ 1.02098976e+06,  7.27850263e+04, -7.81651650e+02])"
      ]
     },
     "execution_count": 275,
     "metadata": {},
     "output_type": "execute_result"
    }
   ],
   "source": [
    "def funcion_de_costo_2(theta, x, y) :\n",
    "    prediccion = theta[0] + theta[1]*x + theta[2]*x**2\n",
    "    error = y - prediccion\n",
    "    error_2 = error**2\n",
    "    return np.sum(error_2)\n",
    "\n",
    "theta_inicial_2 = np.random.rand(3)\n",
    "sol = opt.minimize(funcion_de_costo_2,\n",
    "                   theta_inicial_2,\n",
    "                   args=(x, y))\n",
    "#los argumentos son los que estan después de theta en la función de costo\n",
    "costo_2 = sol.fun\n",
    "resultados_2 = sol.x\n",
    "sol"
   ]
  },
  {
   "cell_type": "code",
   "execution_count": 277,
   "metadata": {},
   "outputs": [
    {
     "data": {
      "text/plain": [
       "      fun: 441782517635.8472\n",
       " hess_inv: array([[ 2.10661292e-11,  3.29018094e-11, -5.14168844e-11,\n",
       "         3.03874940e-12],\n",
       "       [ 3.29018094e-11,  5.59883635e-11, -8.37026365e-11,\n",
       "         5.33071870e-12],\n",
       "       [-5.14168844e-11, -8.37026365e-11,  1.28337095e-10,\n",
       "        -7.78385662e-12],\n",
       "       [ 3.03874940e-12,  5.33071870e-12, -7.78385662e-12,\n",
       "         9.63099864e-13]])\n",
       "      jac: array([-8192., -8192., -8192., 16384.])\n",
       "  message: 'Desired error not necessarily achieved due to precision loss.'\n",
       "     nfev: 937\n",
       "      nit: 67\n",
       "     njev: 184\n",
       "   status: 2\n",
       "  success: False\n",
       "        x: array([ 1.08815363e+06,  5.98869767e+04, -2.81734958e+02, -5.12746242e+00])"
      ]
     },
     "execution_count": 277,
     "metadata": {},
     "output_type": "execute_result"
    }
   ],
   "source": [
    "def poblema2_3(theta, x, y) :\n",
    "    prediccion = theta[0] + theta[1]*x + theta[2]*x**2 + theta[3]*x**3\n",
    "    error = y - prediccion\n",
    "    error_2 = error**2\n",
    "    return np.sum(error_2)\n",
    "\n",
    "theta_inicial_3 = np.random.rand(4)\n",
    "sol = opt.minimize(funcion_de_costo_3,\n",
    "                   theta_inicial_3,\n",
    "                   args=(x, y))\n",
    "\n",
    "costo_3 = sol.fun\n",
    "resultados_3 = sol.x\n",
    "sol"
   ]
  },
  {
   "cell_type": "code",
   "execution_count": 278,
   "metadata": {
    "scrolled": true
   },
   "outputs": [
    {
     "data": {
      "text/plain": [
       "<matplotlib.legend.Legend at 0x21eab7f3c70>"
      ]
     },
     "execution_count": 278,
     "metadata": {},
     "output_type": "execute_result"
    },
    {
     "data": {
      "image/png": "[encoded data removed]",
      "text/plain": [
       "<Figure size 432x288 with 1 Axes>"
      ]
     },
     "metadata": {
      "needs_background": "light"
     },
     "output_type": "display_data"
    }
   ],
   "source": [
    "xn= np.linspace(0,70,200)\n",
    "yn1 = resultados_1[0]+ resultados_1[1]*xn\n",
    "yn2 = resultados_2[0]+ resultados_2[1]*xn + resultados_2[2]*xn**2\n",
    "yn3 = resultados_3[0]+ resultados_3[1]*xn + resultados_3[2]*xn**2 + + resultados_3[3]*xn**3\n",
    "\n",
    "import matplotlib.pyplot as plt\n",
    "plt.figure()\n",
    "plt.scatter(x,y, s=5)\n",
    "plt.plot(xn, yn2, label= \"linea\")\n",
    "plt.plot(xn, yn2, label= \"cuad\")\n",
    "plt.plot(xn, yn2, label= \"cubo\")\n",
    "plt.legend(loc=\"best\")"
   ]
  },
  {
   "cell_type": "markdown",
   "metadata": {},
   "source": [
    "---"
   ]
  },
  {
   "cell_type": "code",
   "execution_count": 279,
   "metadata": {},
   "outputs": [
    {
     "data": {
      "text/plain": [
       "<function matplotlib.pyplot.grid(b=None, which='major', axis='both', **kwargs)>"
      ]
     },
     "execution_count": 279,
     "metadata": {},
     "output_type": "execute_result"
    },
    {
     "data": {
      "image/png": "[encoded data removed]",
      "text/plain": [
       "<Figure size 432x288 with 1 Axes>"
      ]
     },
     "metadata": {
      "needs_background": "light"
     },
     "output_type": "display_data"
    }
   ],
   "source": [
    "plt.figure()\n",
    "plt.bar([1,2,3],[costo_1,costo_2,costo_3])\n",
    "plt.grid"
   ]
  },
  {
   "cell_type": "code",
   "execution_count": null,
   "metadata": {},
   "outputs": [],
   "source": []
  }
 ],
 "metadata": {
  "kernelspec": {
   "display_name": "Python 3 (ipykernel)",
   "language": "python",
   "name": "python3"
  },
  "language_info": {
   "codemirror_mode": {
    "name": "ipython",
    "version": 3
   },
   "file_extension": ".py",
   "mimetype": "text/x-python",
   "name": "python",
   "nbconvert_exporter": "python",
   "pygments_lexer": "ipython3",
   "version": "3.9.7"
  }
 },
 "nbformat": 4,
 "nbformat_minor": 2
}
