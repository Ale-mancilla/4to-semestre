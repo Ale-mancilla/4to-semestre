{
 "cells": [
  {
   "cell_type": "markdown",
   "metadata": {},
   "source": [
    "# Tarea - Programación lineal"
   ]
  },
  {
   "cell_type": "markdown",
   "metadata": {},
   "source": [
    "### Diseño de la Dieta Óptima\n",
    "\n",
    "Se quiere producir comida para gatos de la manera más barata, no obstante se debe también asegurar que se cumplan los datos requeridos de analisis nutricional. Por lo que se quiere variar la cantidad de cada ingrediente para cumplir con los estandares nutricionales. Los requisitos que se tienen es que en $100$ gramos, se deben tener **por lo menos** $8$ gramos de proteína y $6$ gramos de grasa. Así mismo, no se debe tener más de $2$ gramos de fibra y $0.4$ gramos de sal.  \n",
    "\n",
    "Los datos nutricionales se pueden obtener de la siguiente tabla:\n",
    "\n",
    "Ingrediente|Proteína|Grasa|Fibra|Sal\n",
    ":----|----|----|----|----\n",
    "Pollo|  10.0%|08.0%|00.1%|00.2%\n",
    "Carne|  20.0%|10.0%|00.5%|00.5%\n",
    "Cordero|15.0%|11.0%|00.5%|00.7%\n",
    "Arroz|  00.0%|01.0%|10.0%|00.2%\n",
    "Trigo|  04.0%|01.0%|15.0%|00.8%\n",
    "Gel|    00.0%|00.0%|00.0%|00.0%\n",
    "\n",
    "Los costos de cada producto son:\n",
    "\n",
    "Ingrediente|Costo por gramo\n",
    ":----|----\n",
    "Pollo|$\\$$0.013\n",
    "Carne|$\\$$0.008\n",
    "Cordero|$\\$$0.010\n",
    "Arroz|$\\$$0.002\n",
    "Trigo|$\\$$0.005\n",
    "Gel|$\\$$0.001    \n",
    "\n",
    "Lo que se busca optimizar en este caso es la cantidad de productos que se debe utilizar en la comida de gato, minimizando el costo total. Para simplificar la notación use las siguientes variables: \n",
    "\n",
    "+ $x_1:$ Gramos de pollo  \n",
    "+ $x_2:$ Gramos de carne  \n",
    "+ $x_3:$ Gramos de cordero  \n",
    "+ $x_4:$ Gramos de arroz  \n",
    "+ $x_5:$ Gramos de trigo  \n",
    "+ $x_6:$ Gramos de gel\n",
    "\n",
    "La tarea consiste en plantear el problemade programación lineal que permita satisfacer las necesidades alimenticias del gato al tiempo que minimice el costo total y resolverlo con `linprog`."
   ]
  },
  {
   "cell_type": "markdown",
   "metadata": {},
   "source": [
    "**Pasos a seguir\n",
    "\n",
    "1. Identificar el criterio de optimización\n",
    "> Minimizar el costo total\n",
    "2. Identificar la información que nos permita escribir la función objetivo\n",
    "Restricciones:\n",
    "1. El alimento debe tener **al menos** $8 g$ de proteína: \n",
    "\n",
    "2. El alimento debe tener **al menos** $6 g$ de grasa\n",
    "\n",
    "3. El alimento debe tener **al menos** $2 g$ de fibra\n",
    "\n",
    "3. El alimento debe tener **al menos** 0.4 g$ de sal:\n",
    "\n",
    "4. precios:\n",
    "- Pollo $0.013\n",
    "- Carne $0.010\n",
    "- Cordero $0.002\n",
    "- Arroz $0.005\n",
    "- Trigo $0.005\n",
    "- Gel $0.001\n",
    "\n",
    "3. Definir variables de optimización\n",
    "\n",
    "\n",
    "$$ 0.013 x_1 + 0.008 x_2 + 0.010 x_3 + 0.002 x_4+ 0.005 x_5 +0.001x_6 $$\n"
   ]
  },
  {
   "cell_type": "markdown",
   "metadata": {},
   "source": [
    "### Primera restricción \n",
    "-Proteina\n",
    "\n",
    "$$ \\frac{10}{100}x_1 + \\frac{20}{100}x_2 + \\frac{15}{100}x_3 +\\frac{4}{100}x_5  >= 8 $$"
   ]
  },
  {
   "cell_type": "markdown",
   "metadata": {},
   "source": [
    "Ingrediente|Proteína|Grasa|Fibra|Sal\n",
    ":----|----|----|----|----\n",
    "Pollo|  10.0%|08.0%|00.1%|00.2%\n",
    "Carne|  20.0%|10.0%|00.5%|00.5%\n",
    "Cordero|15.0%|11.0%|00.5%|00.7%\n",
    "Arroz|  00.0%|01.0%|10.0%|00.2%\n",
    "Trigo|  04.0%|01.0%|15.0%|00.8%\n",
    "Gel|    00.0%|00.0%|00.0%|00.0%\n"
   ]
  },
  {
   "cell_type": "markdown",
   "metadata": {},
   "source": [
    "### Segunda restricción\n",
    "-Grasa\n",
    "$$ \\frac{8}{100}x_1 + \\frac{10}{100}x_2 + \\frac{11}{100}x_3 + \\frac{1}{100}x_4 +\\frac{1}{100}x_5  >= 6 $$"
   ]
  },
  {
   "cell_type": "markdown",
   "metadata": {},
   "source": [
    "### Tercera restricción\n",
    "-Fibra \n",
    "$$ \\frac{0.1}{100}x_1 + \\frac{0.5}{100}x_2 + \\frac{0.5}{100}x_3 + \\frac{10}{100}x_4 +\\frac{15}{100}x_5  >= 2 $$"
   ]
  },
  {
   "cell_type": "markdown",
   "metadata": {},
   "source": [
    "### Cuarta restricción\n",
    "-Sal\n",
    "$$ \\frac{0.2}{100}x_1 + \\frac{0.5}{100}x_2 + \\frac{0.7}{100}x_3 + \\frac{0.2}{100}x_4 +\\frac{0.8}{100}x_5  >= 0.4$$"
   ]
  },
  {
   "cell_type": "markdown",
   "metadata": {},
   "source": [
    "con\n",
    "% % \n",
    "- $\\boldsymbol{c}=\\left[0.013\\quad 0.008\\quad 0.01\\quad 0.002\\quad 0.005\\quad 0.001\\quad \\right]^\\top$,\n",
    "- $\\boldsymbol{A}=\\left[\\begin{array}{cc}-0.10  -0.20  -0.15  -0.0  -0.4 \\\\ \n",
    "-0.8  -0.10 -0.11 -0.01 -0.01\\\\ -0.001 -0.005 -0.005  -0.10  -0.15  \\\\ \n",
    "-0.002  -0.005 -0.007 -0.002 -0.008\\\\ -1   -1   -1   -1   -1 \\\\ \\end{array}\\right]$, y\n",
    "- $\\boldsymbol{b}=\\left[-8 \\quad -6\\quad -2\\quad  -0.4\\quad -100\\quad\\right]^\\top$.\n",
    "- $\\boldsymbol{x}=\\left[x_A \\quad x_B\\right]^\\top$.\n"
   ]
  },
  {
   "cell_type": "code",
   "execution_count": 13,
   "metadata": {},
   "outputs": [],
   "source": [
    "import numpy as np\n",
    "import scipy.optimize as opt"
   ]
  },
  {
   "cell_type": "code",
   "execution_count": 21,
   "metadata": {},
   "outputs": [
    {
     "data": {
      "text/plain": [
       "     con: array([], dtype=float64)\n",
       "     fun: 0.15000000000169622\n",
       " message: 'Optimization terminated successfully.'\n",
       "     nit: 8\n",
       "   slack: array([1.95000000e+01, 8.75655104e-12, 5.75000000e+00, 7.35000000e+00,\n",
       "       1.42115653e-09])\n",
       "  status: 0\n",
       " success: True\n",
       "       x: array([3.00517149e-12, 1.83216670e-11, 5.00000000e+01, 4.22193353e-11,\n",
       "       5.00000000e+01])"
      ]
     },
     "execution_count": 21,
     "metadata": {},
     "output_type": "execute_result"
    }
   ],
   "source": [
    "c = np.array([0.013, 0.01, 0.002, 0.005, 0.001])\n",
    "A = np.array([[-0.10, -0.20, -0.15, -0.0, -0.4],\n",
    "              [-0.8, -0.10, -0.11, -0.01, -0.01], \n",
    "              [-0.001, -0.005, -0.005, -0.10, -0.15],\n",
    "              [-0.001, -0.005, -0.005, -0.10, -0.15],\n",
    "              [-1, -1, -1, -1, -1]])\n",
    "b = np.array([-8, -6, -2, -0.4, -100])\n",
    "opt.linprog(c, A, b)"
   ]
  },
  {
   "cell_type": "code",
   "execution_count": 19,
   "metadata": {},
   "outputs": [
    {
     "data": {
      "text/plain": [
       "array([3.00517149e-12, 1.83216670e-11, 5.00000000e+01, 4.22193353e-11,\n",
       "       5.00000000e+01])"
      ]
     },
     "execution_count": 19,
     "metadata": {},
     "output_type": "execute_result"
    }
   ],
   "source": [
    "respuesta.x"
   ]
  },
  {
   "cell_type": "markdown",
   "metadata": {},
   "source": [
    "### Problema de distribución de energía eléctrica\n",
    "\n",
    "La Comisión Federal de Electricidad **(CFE)** dispone de cuatro plantas de generación para satisfacer la demanda diaria eléctrica en cuatro ciudades, Guadalajara, León y Morelia. Las plantas $1$, $2$ y $3$ pueden satisfacer $80$, $40$ y $60$ millones de KW al día respectivamente. Las necesidades de las ciudades de Guadalajara, León y Morelia son de $70$, $40$ y $70$ millones de Kw al día respectivamente. \n",
    "\n",
    "\n",
    "Los costos asociados al envío de suministro energético por cada millón de Kw entre cada planta y cada ciudad son los registrados en la siguiente tabla. \n",
    "\n",
    "-|Guadalajara|León|Morelia\n",
    ":----|----|----|----\n",
    "Planta 1|5|2|7\n",
    "Planta 2|3|6|6\n",
    "Planta 3|6|1|2\n",
    "\n",
    "Y por último, las restricciones del problema, van a estar dadas por las capacidades de oferta y demanda de cada planta (en millones de KW) y cada ciudad.\n",
    "\n",
    "Para simplificar la notación use las siguientes variables:\n",
    "\n",
    "+ $x_1$: Kw (en millones) distribuidos de la Planta 1 a Guadalajara\n",
    "+ $x_2$: Kw (en millones) distribuidos de la Planta 1 a León\n",
    "+ $x_3$: Kw (en millones) distribuidos de la Planta 1 a Morelia\n",
    "+ $x_4$: Kw (en millones) distribuidos de la Planta 2 a Guadalajara\n",
    "+ $x_5$: Kw (en millones) distribuidos de la Planta 2 a León\n",
    "+ $x_6$: Kw (en millones) distribuidos de la Planta 2 a Morelia\n",
    "+ $x_7$: Kw (en millones) distribuidos de la Planta 3 a Guadalajara\n",
    "+ $x_8$: Kw (en millones) distribuidos de la Planta 3 a León\n",
    "+ $x_9$: Kw (en millones) distribuidos de la Planta 3 a Morelia\n",
    "\n",
    "La tarea consiste en plantear el problema de programación lineal que permita satisfacer las necesidades de todas las ciudades al tiempo que minimice los costos asociados a la distribución y resolverlo con `linprog`."
   ]
  },
  {
   "cell_type": "markdown",
   "metadata": {},
   "source": [
    "se tienen las siguientes ecuaciones:\n",
    "\n",
    "Restricciones de satisfacción de las plantas a las ciudades:\n",
    "\n",
    "- $x_{1} + x_{2} + x_{3} \\leq 80$\n",
    "- $x_{4} + x_{5} + x_{6} \\leq 40$\n",
    "- $x_{7} + x_{8} + x_{9} \\leq 60$\n",
    "\n",
    "Restricciones de ls necesidades de consumo de las ciudades a las plantas:\n",
    "\n",
    "\n",
    "- $x_{1} + x_{4} + x_{7} \\leq 80$\n",
    "- $x_{2} + x_{5} + x_{8} \\leq 40$\n",
    "- $x_{3} + x_{6} + x_{9} \\leq 60$\n",
    "\n",
    "La función objetivo será:\n",
    "\n",
    "$$\\min_{x_1,\\dots,x_6}5x_{1} + 2x_{2} + 7x_{3} + 3x_{4} + 6x_{5} + 6x_{6}+ 6x_{7} + 1x_{8} + 2x_{9}$$"
   ]
  },
  {
   "cell_type": "code",
   "execution_count": 44,
   "metadata": {},
   "outputs": [],
   "source": [
    "import numpy as np\n",
    "import scipy.optimize as opt\n",
    "\n",
    "c = np.array([5,\n",
    "              2,\n",
    "              7, \n",
    "              3,\n",
    "              6,\n",
    "              6,\n",
    "              6,\n",
    "              1,\n",
    "              2])\n",
    "\n",
    "A=np.array([[ 1,  1,  1,  0,  0,  0, 0, 0, 0], \n",
    "            [ 0,  0,  0,  1,  1,  1, 0, 0, 0],\n",
    "            [ 0,  0,  0,  0,  0,  0, 1, 1, 1],\n",
    "            [ -1,  0,  0,  -1,  0,  0, -1, 0, 0], \n",
    "            [0,  -1,  0, 0,  -1,  0, 0, -1, 0],\n",
    "            [ 0, 0,  -1,  0, 0,  -1, 0, 0, -1]])\n",
    "\n",
    "b = np.array([80,\n",
    "              40,\n",
    "              60,\n",
    "             -70,\n",
    "             -40,\n",
    "             -70])\n",
    "respuesta = opt.linprog(c, A, b, method=\"simplex\")"
   ]
  },
  {
   "cell_type": "code",
   "execution_count": 45,
   "metadata": {},
   "outputs": [
    {
     "data": {
      "text/plain": [
       "array([30., 40., 10., 40.,  0.,  0.,  0.,  0., 60.])"
      ]
     },
     "execution_count": 45,
     "metadata": {},
     "output_type": "execute_result"
    }
   ],
   "source": [
    "respuesta.x"
   ]
  },
  {
   "cell_type": "code",
   "execution_count": 46,
   "metadata": {},
   "outputs": [
    {
     "data": {
      "text/plain": [
       "540.0"
      ]
     },
     "execution_count": 46,
     "metadata": {},
     "output_type": "execute_result"
    }
   ],
   "source": [
    "respuesta.fun"
   ]
  },
  {
   "cell_type": "code",
   "execution_count": 48,
   "metadata": {},
   "outputs": [
    {
     "data": {
      "text/plain": [
       "'Optimization terminated successfully.'"
      ]
     },
     "execution_count": 48,
     "metadata": {},
     "output_type": "execute_result"
    }
   ],
   "source": [
    "respuesta.message"
   ]
  },
  {
   "cell_type": "code",
   "execution_count": null,
   "metadata": {},
   "outputs": [],
   "source": []
  }
 ],
 "metadata": {
  "kernelspec": {
   "display_name": "Python 3 (ipykernel)",
   "language": "python",
   "name": "python3"
  },
  "language_info": {
   "codemirror_mode": {
    "name": "ipython",
    "version": 3
   },
   "file_extension": ".py",
   "mimetype": "text/x-python",
   "name": "python",
   "nbconvert_exporter": "python",
   "pygments_lexer": "ipython3",
   "version": "3.9.7"
  }
 },
 "nbformat": 4,
 "nbformat_minor": 2
}
