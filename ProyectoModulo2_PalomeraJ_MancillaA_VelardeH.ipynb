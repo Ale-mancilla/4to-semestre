{
 "cells": [
  {
   "cell_type": "markdown",
   "id": "fe24d866",
   "metadata": {},
   "source": [
    "# Proyecto portafolio de inversión para un fondo de la universidad."
   ]
  },
  {
   "cell_type": "markdown",
   "id": "4d3bf8d1",
   "metadata": {},
   "source": [
    "En este proyecto se creará un portafolio que pueda generar el 200% de rendimiento a 4 años para la universidad del hijo de un inversionista."
   ]
  },
  {
   "cell_type": "markdown",
   "id": "d0e8250b",
   "metadata": {},
   "source": [
    "## Objetivos"
   ]
  },
  {
   "cell_type": "markdown",
   "id": "793eaa56",
   "metadata": {},
   "source": [
    "### Objetivo principal\n",
    "- El objetivo **principal** será ver si en las simulaciones que se crean con un portafolio de algunos activos financieros se puede lograr un 200% de rendimiento a 4 años para que el inversionista pueda sostener los gastos de universidad de su hijo.\n",
    "- Objetivos secundarios\n",
    "    - El **primer** objetivo es poder generar al menos 10,000 escenarios en los que se proyecten los rendimientos esperados para 4 años.\n",
    "    - El **segundo** objetivo es poder, a partir de los rendimientos esperados generar en cada uno de los escenarios en los 4 años los precios de cierre para proyectar as ganancias posibles si se abriera el portafolio el dia de hoy 23/04/2022.\n",
    "    \n",
    "Todos los objetivos se harán dos veces para probar que tan bueno es el modelo de predicción, primero lo haremos de 2018 al dia de hoy que es 23/04/2022 y después de el final de esa misma fecha 4 años después."
   ]
  },
  {
   "cell_type": "code",
   "execution_count": 2,
   "id": "6b419130",
   "metadata": {},
   "outputs": [],
   "source": [
    "import pandas_datareader as web\n",
    "import pandas as pd\n",
    "import numpy as np\n",
    "import matplotlib.pyplot as plt\n",
    "%matplotlib inline"
   ]
  },
  {
   "cell_type": "markdown",
   "id": "6496f63a",
   "metadata": {},
   "source": [
    "Descargaremos los datos para las acciones de los activos mas famosos del momento y para un indice."
   ]
  },
  {
   "cell_type": "code",
   "execution_count": 3,
   "id": "a20f2036",
   "metadata": {
    "scrolled": true
   },
   "outputs": [
    {
     "data": {
      "text/html": [
       "<div>\n",
       "<style scoped>\n",
       "    .dataframe tbody tr th:only-of-type {\n",
       "        vertical-align: middle;\n",
       "    }\n",
       "\n",
       "    .dataframe tbody tr th {\n",
       "        vertical-align: top;\n",
       "    }\n",
       "\n",
       "    .dataframe thead th {\n",
       "        text-align: right;\n",
       "    }\n",
       "</style>\n",
       "<table border=\"1\" class=\"dataframe\">\n",
       "  <thead>\n",
       "    <tr style=\"text-align: right;\">\n",
       "      <th>Symbols</th>\n",
       "      <th>FB</th>\n",
       "      <th>MSFT</th>\n",
       "      <th>AMZN</th>\n",
       "      <th>TSLA</th>\n",
       "      <th>^GSPC</th>\n",
       "    </tr>\n",
       "    <tr>\n",
       "      <th>Date</th>\n",
       "      <th></th>\n",
       "      <th></th>\n",
       "      <th></th>\n",
       "      <th></th>\n",
       "      <th></th>\n",
       "    </tr>\n",
       "  </thead>\n",
       "  <tbody>\n",
       "    <tr>\n",
       "      <th>2013-01-02</th>\n",
       "      <td>28.000000</td>\n",
       "      <td>22.940655</td>\n",
       "      <td>257.309998</td>\n",
       "      <td>7.072</td>\n",
       "      <td>1462.420044</td>\n",
       "    </tr>\n",
       "    <tr>\n",
       "      <th>2013-01-03</th>\n",
       "      <td>27.770000</td>\n",
       "      <td>22.633333</td>\n",
       "      <td>258.480011</td>\n",
       "      <td>6.954</td>\n",
       "      <td>1459.369995</td>\n",
       "    </tr>\n",
       "    <tr>\n",
       "      <th>2013-01-04</th>\n",
       "      <td>28.760000</td>\n",
       "      <td>22.209742</td>\n",
       "      <td>259.149994</td>\n",
       "      <td>6.880</td>\n",
       "      <td>1466.469971</td>\n",
       "    </tr>\n",
       "    <tr>\n",
       "      <th>2013-01-07</th>\n",
       "      <td>29.420000</td>\n",
       "      <td>22.168213</td>\n",
       "      <td>268.459991</td>\n",
       "      <td>6.868</td>\n",
       "      <td>1461.890015</td>\n",
       "    </tr>\n",
       "    <tr>\n",
       "      <th>2013-01-08</th>\n",
       "      <td>29.059999</td>\n",
       "      <td>22.051931</td>\n",
       "      <td>266.380005</td>\n",
       "      <td>6.736</td>\n",
       "      <td>1457.150024</td>\n",
       "    </tr>\n",
       "  </tbody>\n",
       "</table>\n",
       "</div>"
      ],
      "text/plain": [
       "Symbols            FB       MSFT        AMZN   TSLA        ^GSPC\n",
       "Date                                                            \n",
       "2013-01-02  28.000000  22.940655  257.309998  7.072  1462.420044\n",
       "2013-01-03  27.770000  22.633333  258.480011  6.954  1459.369995\n",
       "2013-01-04  28.760000  22.209742  259.149994  6.880  1466.469971\n",
       "2013-01-07  29.420000  22.168213  268.459991  6.868  1461.890015\n",
       "2013-01-08  29.059999  22.051931  266.380005  6.736  1457.150024"
      ]
     },
     "execution_count": 3,
     "metadata": {},
     "output_type": "execute_result"
    }
   ],
   "source": [
    "names = [\"FB\", 'MSFT', 'AMZN', 'TSLA', '^GSPC']\n",
    "#Fechas en \"yyyy-mm-dd\"\n",
    "start = \"2013-01-01\"\n",
    "end = \"2018-01-01\"\n",
    "def getClose(name, start, end):\n",
    "    return web.DataReader(name, \"yahoo\", start, end)[\"Adj Close\"]\n",
    "data2 = getClose(names, start, end)\n",
    "data2.head()"
   ]
  },
  {
   "cell_type": "markdown",
   "id": "54cd78aa",
   "metadata": {},
   "source": [
    "Veamos como se ve esta gráfica"
   ]
  },
  {
   "cell_type": "code",
   "execution_count": 4,
   "id": "c90bc153",
   "metadata": {},
   "outputs": [
    {
     "data": {
      "text/html": [
       "<div>\n",
       "<style scoped>\n",
       "    .dataframe tbody tr th:only-of-type {\n",
       "        vertical-align: middle;\n",
       "    }\n",
       "\n",
       "    .dataframe tbody tr th {\n",
       "        vertical-align: top;\n",
       "    }\n",
       "\n",
       "    .dataframe thead th {\n",
       "        text-align: right;\n",
       "    }\n",
       "</style>\n",
       "<table border=\"1\" class=\"dataframe\">\n",
       "  <thead>\n",
       "    <tr style=\"text-align: right;\">\n",
       "      <th>Symbols</th>\n",
       "      <th>FB</th>\n",
       "      <th>MSFT</th>\n",
       "      <th>AMZN</th>\n",
       "      <th>TSLA</th>\n",
       "      <th>^GSPC</th>\n",
       "    </tr>\n",
       "  </thead>\n",
       "  <tbody>\n",
       "    <tr>\n",
       "      <th>count</th>\n",
       "      <td>1259.000000</td>\n",
       "      <td>1259.000000</td>\n",
       "      <td>1259.000000</td>\n",
       "      <td>1259.000000</td>\n",
       "      <td>1259.000000</td>\n",
       "    </tr>\n",
       "    <tr>\n",
       "      <th>mean</th>\n",
       "      <td>93.275441</td>\n",
       "      <td>44.820363</td>\n",
       "      <td>554.954266</td>\n",
       "      <td>43.258712</td>\n",
       "      <td>2035.665989</td>\n",
       "    </tr>\n",
       "    <tr>\n",
       "      <th>std</th>\n",
       "      <td>42.854103</td>\n",
       "      <td>14.365545</td>\n",
       "      <td>263.588478</td>\n",
       "      <td>15.167120</td>\n",
       "      <td>275.924964</td>\n",
       "    </tr>\n",
       "    <tr>\n",
       "      <th>min</th>\n",
       "      <td>22.900000</td>\n",
       "      <td>21.977177</td>\n",
       "      <td>248.229996</td>\n",
       "      <td>6.582000</td>\n",
       "      <td>1457.150024</td>\n",
       "    </tr>\n",
       "    <tr>\n",
       "      <th>25%</th>\n",
       "      <td>62.535000</td>\n",
       "      <td>34.217953</td>\n",
       "      <td>322.065002</td>\n",
       "      <td>37.733999</td>\n",
       "      <td>1863.080017</td>\n",
       "    </tr>\n",
       "    <tr>\n",
       "      <th>50%</th>\n",
       "      <td>86.669998</td>\n",
       "      <td>41.750664</td>\n",
       "      <td>439.390015</td>\n",
       "      <td>43.916000</td>\n",
       "      <td>2050.629883</td>\n",
       "    </tr>\n",
       "    <tr>\n",
       "      <th>75%</th>\n",
       "      <td>123.375000</td>\n",
       "      <td>53.224333</td>\n",
       "      <td>767.180023</td>\n",
       "      <td>50.601000</td>\n",
       "      <td>2168.760010</td>\n",
       "    </tr>\n",
       "    <tr>\n",
       "      <th>max</th>\n",
       "      <td>183.029999</td>\n",
       "      <td>82.383949</td>\n",
       "      <td>1195.829956</td>\n",
       "      <td>77.000000</td>\n",
       "      <td>2690.159912</td>\n",
       "    </tr>\n",
       "  </tbody>\n",
       "</table>\n",
       "</div>"
      ],
      "text/plain": [
       "Symbols           FB         MSFT         AMZN         TSLA        ^GSPC\n",
       "count    1259.000000  1259.000000  1259.000000  1259.000000  1259.000000\n",
       "mean       93.275441    44.820363   554.954266    43.258712  2035.665989\n",
       "std        42.854103    14.365545   263.588478    15.167120   275.924964\n",
       "min        22.900000    21.977177   248.229996     6.582000  1457.150024\n",
       "25%        62.535000    34.217953   322.065002    37.733999  1863.080017\n",
       "50%        86.669998    41.750664   439.390015    43.916000  2050.629883\n",
       "75%       123.375000    53.224333   767.180023    50.601000  2168.760010\n",
       "max       183.029999    82.383949  1195.829956    77.000000  2690.159912"
      ]
     },
     "execution_count": 4,
     "metadata": {},
     "output_type": "execute_result"
    }
   ],
   "source": [
    "data2.describe()"
   ]
  },
  {
   "cell_type": "code",
   "execution_count": 8,
   "id": "59e3ac6a",
   "metadata": {},
   "outputs": [
    {
     "data": {
      "text/plain": [
       "<AxesSubplot:xlabel='Date'>"
      ]
     },
     "execution_count": 8,
     "metadata": {},
     "output_type": "execute_result"
    },
    {
     "data": {
      "image/png": "[encoded data removed]",
      "text/plain": [
       "<Figure size 432x288 with 1 Axes>"
      ]
     },
     "metadata": {
      "needs_background": "light"
     },
     "output_type": "display_data"
    }
   ],
   "source": [
    "data2.plot(grid=True)"
   ]
  },
  {
   "cell_type": "markdown",
   "id": "e015c56e",
   "metadata": {},
   "source": [
    "Observamos que algunos activos no han tenido un crecimiento tan grande como los 2 principales que son amazon y el indice $ S&P500 $. Ahora queremos saber que tal se ve su distribución."
   ]
  },
  {
   "cell_type": "code",
   "execution_count": 9,
   "id": "d350b7ba",
   "metadata": {
    "scrolled": false
   },
   "outputs": [
    {
     "data": {
      "text/plain": [
       "array([[<AxesSubplot:title={'center':'FB'}>,\n",
       "        <AxesSubplot:title={'center':'MSFT'}>],\n",
       "       [<AxesSubplot:title={'center':'AMZN'}>,\n",
       "        <AxesSubplot:title={'center':'TSLA'}>],\n",
       "       [<AxesSubplot:title={'center':'^GSPC'}>, <AxesSubplot:>]],\n",
       "      dtype=object)"
      ]
     },
     "execution_count": 9,
     "metadata": {},
     "output_type": "execute_result"
    },
    {
     "data": {
      "image/png": "[encoded data removed]",
      "text/plain": [
       "<Figure size 720x504 with 6 Axes>"
      ]
     },
     "metadata": {
      "needs_background": "light"
     },
     "output_type": "display_data"
    }
   ],
   "source": [
    "data2.hist(bins=50, figsize=(10,7))"
   ]
  },
  {
   "cell_type": "markdown",
   "id": "b20ef915",
   "metadata": {},
   "source": [
    "Ahora obtendremos los rendimientos diarios para los activos y también veremos su distribución."
   ]
  },
  {
   "cell_type": "code",
   "execution_count": 10,
   "id": "3a090fff",
   "metadata": {},
   "outputs": [
    {
     "data": {
      "text/plain": [
       "<AxesSubplot:xlabel='Date'>"
      ]
     },
     "execution_count": 10,
     "metadata": {},
     "output_type": "execute_result"
    },
    {
     "data": {
      "image/png": "[encoded data removed]",
      "text/plain": [
       "<Figure size 432x288 with 1 Axes>"
      ]
     },
     "metadata": {
      "needs_background": "light"
     },
     "output_type": "display_data"
    }
   ],
   "source": [
    "R = ((data2 - data2.shift())/data2.shift()).dropna()\n",
    "R.plot(grid=True)"
   ]
  },
  {
   "cell_type": "code",
   "execution_count": 11,
   "id": "ae20f06e",
   "metadata": {
    "scrolled": false
   },
   "outputs": [
    {
     "data": {
      "text/plain": [
       "array([[<AxesSubplot:title={'center':'FB'}>,\n",
       "        <AxesSubplot:title={'center':'MSFT'}>],\n",
       "       [<AxesSubplot:title={'center':'AMZN'}>,\n",
       "        <AxesSubplot:title={'center':'TSLA'}>],\n",
       "       [<AxesSubplot:title={'center':'^GSPC'}>, <AxesSubplot:>]],\n",
       "      dtype=object)"
      ]
     },
     "execution_count": 11,
     "metadata": {},
     "output_type": "execute_result"
    },
    {
     "data": {
      "image/png": "[encoded data removed]",
      "text/plain": [
       "<Figure size 720x504 with 6 Axes>"
      ]
     },
     "metadata": {
      "needs_background": "light"
     },
     "output_type": "display_data"
    }
   ],
   "source": [
    "R.hist(bins=50, figsize=(10,7))"
   ]
  },
  {
   "cell_type": "code",
   "execution_count": 12,
   "id": "faabe875",
   "metadata": {
    "scrolled": true
   },
   "outputs": [
    {
     "data": {
      "text/html": [
       "<div>\n",
       "<style scoped>\n",
       "    .dataframe tbody tr th:only-of-type {\n",
       "        vertical-align: middle;\n",
       "    }\n",
       "\n",
       "    .dataframe tbody tr th {\n",
       "        vertical-align: top;\n",
       "    }\n",
       "\n",
       "    .dataframe thead th {\n",
       "        text-align: right;\n",
       "    }\n",
       "</style>\n",
       "<table border=\"1\" class=\"dataframe\">\n",
       "  <thead>\n",
       "    <tr style=\"text-align: right;\">\n",
       "      <th>Symbols</th>\n",
       "      <th>FB</th>\n",
       "      <th>MSFT</th>\n",
       "      <th>AMZN</th>\n",
       "      <th>TSLA</th>\n",
       "      <th>^GSPC</th>\n",
       "    </tr>\n",
       "  </thead>\n",
       "  <tbody>\n",
       "    <tr>\n",
       "      <th>count</th>\n",
       "      <td>1258.000000</td>\n",
       "      <td>1258.000000</td>\n",
       "      <td>1258.000000</td>\n",
       "      <td>1258.000000</td>\n",
       "      <td>1258.000000</td>\n",
       "    </tr>\n",
       "    <tr>\n",
       "      <th>mean</th>\n",
       "      <td>0.001662</td>\n",
       "      <td>0.001104</td>\n",
       "      <td>0.001371</td>\n",
       "      <td>0.002170</td>\n",
       "      <td>0.000508</td>\n",
       "    </tr>\n",
       "    <tr>\n",
       "      <th>std</th>\n",
       "      <td>0.020250</td>\n",
       "      <td>0.014082</td>\n",
       "      <td>0.018316</td>\n",
       "      <td>0.029862</td>\n",
       "      <td>0.007464</td>\n",
       "    </tr>\n",
       "    <tr>\n",
       "      <th>min</th>\n",
       "      <td>-0.069348</td>\n",
       "      <td>-0.113995</td>\n",
       "      <td>-0.109972</td>\n",
       "      <td>-0.145071</td>\n",
       "      <td>-0.039414</td>\n",
       "    </tr>\n",
       "    <tr>\n",
       "      <th>25%</th>\n",
       "      <td>-0.008143</td>\n",
       "      <td>-0.005759</td>\n",
       "      <td>-0.007365</td>\n",
       "      <td>-0.012430</td>\n",
       "      <td>-0.002835</td>\n",
       "    </tr>\n",
       "    <tr>\n",
       "      <th>50%</th>\n",
       "      <td>0.001081</td>\n",
       "      <td>0.000516</td>\n",
       "      <td>0.000921</td>\n",
       "      <td>0.001179</td>\n",
       "      <td>0.000531</td>\n",
       "    </tr>\n",
       "    <tr>\n",
       "      <th>75%</th>\n",
       "      <td>0.011132</td>\n",
       "      <td>0.007752</td>\n",
       "      <td>0.010491</td>\n",
       "      <td>0.016736</td>\n",
       "      <td>0.004570</td>\n",
       "    </tr>\n",
       "    <tr>\n",
       "      <th>max</th>\n",
       "      <td>0.296115</td>\n",
       "      <td>0.104522</td>\n",
       "      <td>0.141311</td>\n",
       "      <td>0.243951</td>\n",
       "      <td>0.039034</td>\n",
       "    </tr>\n",
       "  </tbody>\n",
       "</table>\n",
       "</div>"
      ],
      "text/plain": [
       "Symbols           FB         MSFT         AMZN         TSLA        ^GSPC\n",
       "count    1258.000000  1258.000000  1258.000000  1258.000000  1258.000000\n",
       "mean        0.001662     0.001104     0.001371     0.002170     0.000508\n",
       "std         0.020250     0.014082     0.018316     0.029862     0.007464\n",
       "min        -0.069348    -0.113995    -0.109972    -0.145071    -0.039414\n",
       "25%        -0.008143    -0.005759    -0.007365    -0.012430    -0.002835\n",
       "50%         0.001081     0.000516     0.000921     0.001179     0.000531\n",
       "75%         0.011132     0.007752     0.010491     0.016736     0.004570\n",
       "max         0.296115     0.104522     0.141311     0.243951     0.039034"
      ]
     },
     "execution_count": 12,
     "metadata": {},
     "output_type": "execute_result"
    }
   ],
   "source": [
    "R.describe()"
   ]
  },
  {
   "cell_type": "markdown",
   "id": "cc92a019",
   "metadata": {},
   "source": [
    "Primero generamos sus medias y desviaciones estandar. Luego generamos las fechas en las que queremos predecir los datos, primero veremos que tan preciso es para los años de 2018 a la fecha actual"
   ]
  },
  {
   "cell_type": "code",
   "execution_count": null,
   "id": "2c9f5bac",
   "metadata": {},
   "outputs": [],
   "source": [
    "media_FB = R[\"FB\"].mean()\n",
    "std_FB = R[\"FB\"].std()\n",
    "media_MSFT = R[\"MSFT\"].mean()\n",
    "std_MSFT = R[\"MSFT\"].std()\n",
    "media_AMZN = R[\"MSFT\"].mean()\n",
    "std_AMZN = R[\"MSFT\"].std()\n",
    "media_TSLA, std_TSLA, media_NFLX, std_NFLX"
   ]
  },
  {
   "cell_type": "code",
   "execution_count": null,
   "id": "72057be2",
   "metadata": {},
   "outputs": [],
   "source": [
    "def simR(names, means, stds, start, end, N):\n",
    "    sims = {}\n",
    "    fechas = pd.date_range(start=start, end=end)\n",
    "    for name, mean, std in zip(names, means, stds):\n",
    "        R_sim = np.random.normal(mean, std, size=(len(fechas), N))\n",
    "        sims[name] = pd.DataFrame(data=R_sim, index=fechas)\n",
    "    return sims"
   ]
  },
  {
   "cell_type": "code",
   "execution_count": null,
   "id": "35e57272",
   "metadata": {},
   "outputs": [],
   "source": []
  },
  {
   "cell_type": "code",
   "execution_count": null,
   "id": "f3d33455",
   "metadata": {},
   "outputs": [],
   "source": []
  },
  {
   "cell_type": "code",
   "execution_count": null,
   "id": "6fcbe1dc",
   "metadata": {},
   "outputs": [],
   "source": []
  },
  {
   "cell_type": "markdown",
   "id": "9e768cd7",
   "metadata": {},
   "source": [
    "## Conclusiones"
   ]
  },
  {
   "cell_type": "markdown",
   "id": "45164946",
   "metadata": {},
   "source": [
    "1. Al estar creciendo el deflactor con una curva algo pronunciada podemos decir que el valor del PIB con respecto de 2013 esta siendo cada vez menor, y el crecimiento se está queando estancado.\n",
    "2. Los modelos de predicción aquí utilizados en comparación con los del INEGI no son tan distintos en cuanto a resultados por lo que podemos concluir que los modelos polinomiales son efectivos en muchas ocasiones practicas."
   ]
  }
 ],
 "metadata": {
  "kernelspec": {
   "display_name": "Python 3 (ipykernel)",
   "language": "python",
   "name": "python3"
  },
  "language_info": {
   "codemirror_mode": {
    "name": "ipython",
    "version": 3
   },
   "file_extension": ".py",
   "mimetype": "text/x-python",
   "name": "python",
   "nbconvert_exporter": "python",
   "pygments_lexer": "ipython3",
   "version": "3.9.7"
  }
 },
 "nbformat": 4,
 "nbformat_minor": 5
}
