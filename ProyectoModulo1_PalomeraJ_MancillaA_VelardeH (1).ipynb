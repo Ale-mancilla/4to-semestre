{
 "cells": [
  {
   "cell_type": "markdown",
   "id": "fe24d866",
   "metadata": {},
   "source": [
    "# Proyecto evaluación y predicción del deflactor del PIB de México"
   ]
  },
  {
   "cell_type": "markdown",
   "id": "4d3bf8d1",
   "metadata": {},
   "source": [
    "En este proyecto se evaluarán los datos del deflactor del PIB desde el 2000 hasta el 2020."
   ]
  },
  {
   "cell_type": "markdown",
   "id": "d0e8250b",
   "metadata": {},
   "source": [
    "## Objetivos"
   ]
  },
  {
   "cell_type": "markdown",
   "id": "793eaa56",
   "metadata": {},
   "source": [
    "### Objetivo principal\n",
    "- El objetivo **principal** será predecir un año que aún no termina que será el de 2022, del cual se tiene también la estimación por parte del INEGI con el valor de 145.3919.\n",
    "- Objetivos secundarios\n",
    "    - El **primer** objetivo es poder ver que tan bien se ajusta una curva a la gráfica original de los datos del deflactor del PIB de México comprendido en el periodo entre el 2000 y el 2020.\n",
    "    - El **segundo** objetivo es ver si incluso con la pandemia es posible predecir el valor del 2021, dato que ya está disponible proporcionado por el INEGI con base del PIB de 2013, teniendo este un valor de 140.6097 para el final del último trimestre del año."
   ]
  },
  {
   "cell_type": "code",
   "execution_count": 50,
   "id": "6b419130",
   "metadata": {},
   "outputs": [],
   "source": [
    "import pandas as pd\n",
    "import numpy as np\n",
    "import sympy as sp\n",
    "import scipy.optimize as opt\n",
    "import matplotlib.pyplot as plt\n",
    "%matplotlib inline"
   ]
  },
  {
   "cell_type": "markdown",
   "id": "6496f63a",
   "metadata": {},
   "source": [
    "El siguiente DataFrame describe los valores del deflactor del PIB desde el 2000 hasta el 2020"
   ]
  },
  {
   "cell_type": "code",
   "execution_count": 51,
   "id": "a20f2036",
   "metadata": {
    "scrolled": true
   },
   "outputs": [
    {
     "data": {
      "text/html": [
       "<div>\n",
       "<style scoped>\n",
       "    .dataframe tbody tr th:only-of-type {\n",
       "        vertical-align: middle;\n",
       "    }\n",
       "\n",
       "    .dataframe tbody tr th {\n",
       "        vertical-align: top;\n",
       "    }\n",
       "\n",
       "    .dataframe thead th {\n",
       "        text-align: right;\n",
       "    }\n",
       "</style>\n",
       "<table border=\"1\" class=\"dataframe\">\n",
       "  <thead>\n",
       "    <tr style=\"text-align: right;\">\n",
       "      <th></th>\n",
       "      <th>Año</th>\n",
       "      <th>Deflactor</th>\n",
       "    </tr>\n",
       "  </thead>\n",
       "  <tbody>\n",
       "    <tr>\n",
       "      <th>0</th>\n",
       "      <td>2000</td>\n",
       "      <td>51.7569</td>\n",
       "    </tr>\n",
       "    <tr>\n",
       "      <th>1</th>\n",
       "      <td>2001</td>\n",
       "      <td>54.8838</td>\n",
       "    </tr>\n",
       "    <tr>\n",
       "      <th>2</th>\n",
       "      <td>2002</td>\n",
       "      <td>57.9043</td>\n",
       "    </tr>\n",
       "    <tr>\n",
       "      <th>3</th>\n",
       "      <td>2003</td>\n",
       "      <td>60.2433</td>\n",
       "    </tr>\n",
       "    <tr>\n",
       "      <th>4</th>\n",
       "      <td>2004</td>\n",
       "      <td>65.0397</td>\n",
       "    </tr>\n",
       "  </tbody>\n",
       "</table>\n",
       "</div>"
      ],
      "text/plain": [
       "    Año  Deflactor\n",
       "0  2000    51.7569\n",
       "1  2001    54.8838\n",
       "2  2002    57.9043\n",
       "3  2003    60.2433\n",
       "4  2004    65.0397"
      ]
     },
     "execution_count": 51,
     "metadata": {},
     "output_type": "execute_result"
    }
   ],
   "source": [
    "Deflactor = pd.DataFrame(columns=['Año', 'Deflactor'])\n",
    "Deflactor[\"Año\"] = range(2000, 2021)\n",
    "Deflactor[\"Deflactor\"] = np.array([51.7569, 54.8838, 57.9043, 60.2433, 65.0397, 68.8601, 73.2597, \n",
    "                                   77.5007, 82.2845, 85.5328, 89.4204, 94.6451, 98.4933, 100.0000,\n",
    "                                   104.4397, 107.4007, 113.4208, 121.0344, 127.0131, 131.2625, 135.9457])\n",
    "Deflactor.head()"
   ]
  },
  {
   "cell_type": "markdown",
   "id": "54cd78aa",
   "metadata": {},
   "source": [
    "Veamos como se ve esta gráfica"
   ]
  },
  {
   "cell_type": "code",
   "execution_count": 52,
   "id": "c90bc153",
   "metadata": {},
   "outputs": [
    {
     "data": {
      "image/png": "[encoded data removed]",
      "text/plain": [
       "<Figure size 432x288 with 1 Axes>"
      ]
     },
     "metadata": {
      "needs_background": "light"
     },
     "output_type": "display_data"
    }
   ],
   "source": [
    "x = Deflactor[\"Año\"] - 2000\n",
    "y = Deflactor[\"Deflactor\"]\n",
    "plt.figure()\n",
    "plt.scatter(x, y, s=5)\n",
    "plt.grid()"
   ]
  },
  {
   "cell_type": "markdown",
   "id": "e015c56e",
   "metadata": {},
   "source": [
    "Ajustamos estos datos a polinomios de grado 1 hasta 3 (los datos en $x$ corresponden a los años del 2000 al 2020, sin embargo son valores muy grandes para elevarlos a una potencia, usaremos una representación para estos años, por ejemplo $2000 \\rightarrow 0$ y $2020\\rightarrow 20$)."
   ]
  },
  {
   "cell_type": "code",
   "execution_count": 53,
   "id": "d350b7ba",
   "metadata": {},
   "outputs": [
    {
     "data": {
      "text/plain": [
       "      fun: 89.99881159726483\n",
       " hess_inv: array([[ 0.08874461, -0.00649351],\n",
       "       [-0.00649351,  0.00064935]])\n",
       "      jac: array([ 0.00000000e+00, -9.53674316e-07])\n",
       "  message: 'Optimization terminated successfully.'\n",
       "     nfev: 18\n",
       "      nit: 5\n",
       "     njev: 6\n",
       "   status: 0\n",
       "  success: True\n",
       "        x: array([48.61658518,  4.18758672])"
      ]
     },
     "execution_count": 53,
     "metadata": {},
     "output_type": "execute_result"
    }
   ],
   "source": [
    "def funcion_de_costo_1(theta, x, y) :\n",
    "    prediccion = theta[0] + theta[1]*x\n",
    "    error = y - prediccion\n",
    "    error_2 = error**2\n",
    "    return np.sum(error_2)\n",
    "\n",
    "theta_inicial_1 = np.random.rand(2)\n",
    "sol = opt.minimize(funcion_de_costo_1,\n",
    "                   theta_inicial_1,\n",
    "                   args=(x, y))\n",
    "costo_1 = sol.fun\n",
    "resultados_1 = sol.x\n",
    "sol"
   ]
  },
  {
   "cell_type": "code",
   "execution_count": 54,
   "id": "fa86d98d",
   "metadata": {},
   "outputs": [
    {
     "data": {
      "text/plain": [
       "      fun: 39.78568668926338\n",
       " hess_inv: array([[ 1.78151432e-01, -3.47294599e-02,  1.41182038e-03],\n",
       "       [-3.47294599e-02,  9.56831627e-03, -4.45972567e-04],\n",
       "       [ 1.41182038e-03, -4.45972567e-04,  2.23000203e-05]])\n",
       "      jac: array([4.76837158e-07, 2.38418579e-06, 4.76837158e-07])\n",
       "  message: 'Optimization terminated successfully.'\n",
       "     nfev: 36\n",
       "      nit: 7\n",
       "     njev: 9\n",
       "   status: 0\n",
       "  success: True\n",
       "        x: array([5.16129760e+01, 3.24135801e+00, 4.73114362e-02])"
      ]
     },
     "execution_count": 54,
     "metadata": {},
     "output_type": "execute_result"
    }
   ],
   "source": [
    "def funcion_de_costo_2(theta, x, y) :\n",
    "    prediccion = theta[0] + theta[1]*x + theta[2]*x**2\n",
    "    error = y - prediccion\n",
    "    error_2 = error**2\n",
    "    return np.sum(error_2)\n",
    "\n",
    "theta_inicial_2 = np.random.rand(3)\n",
    "sol = opt.minimize(funcion_de_costo_2,\n",
    "                   theta_inicial_2,\n",
    "                   args=(x, y))\n",
    "costo_2 = sol.fun\n",
    "resultados_2 = sol.x\n",
    "sol"
   ]
  },
  {
   "cell_type": "code",
   "execution_count": 55,
   "id": "3d754563",
   "metadata": {},
   "outputs": [
    {
     "data": {
      "text/plain": [
       "      fun: 33.71122505619112\n",
       " hess_inv: array([[ 2.72042995e-01, -9.89761935e-02,  9.64075375e-03,\n",
       "        -2.74307293e-04],\n",
       "       [-9.89761935e-02,  5.36401536e-02, -6.09324973e-03,\n",
       "         1.88243966e-04],\n",
       "       [ 9.64075375e-03, -6.09324973e-03,  7.45962691e-04,\n",
       "        -2.41216524e-05],\n",
       "       [-2.74307293e-04,  1.88243966e-04, -2.41216524e-05,\n",
       "         8.04028609e-07]])\n",
       "      jac: array([ 6.80923462e-04, -2.84361839e-02, -6.08086586e-01, -1.06494031e+01])\n",
       "  message: 'Desired error not necessarily achieved due to precision loss.'\n",
       "     nfev: 212\n",
       "      nit: 8\n",
       "     njev: 40\n",
       "   status: 2\n",
       "  success: False\n",
       "        x: array([ 5.05459091e+01,  3.97222735e+00, -4.63128079e-02,  3.12081096e-03])"
      ]
     },
     "execution_count": 55,
     "metadata": {},
     "output_type": "execute_result"
    }
   ],
   "source": [
    "def funcion_de_costo_3(theta, x, y) :\n",
    "    prediccion = theta[0] + theta[1]*x + theta[2]*x**2 + theta[3]*x**3\n",
    "    error = y - prediccion\n",
    "    error_2 = error**2\n",
    "    return np.sum(error_2)\n",
    "\n",
    "theta_inicial_3 = np.random.rand(4)\n",
    "sol = opt.minimize(funcion_de_costo_3,\n",
    "                   theta_inicial_3,\n",
    "                   args=(x, y))\n",
    "costo_3 = sol.fun\n",
    "resultados_3 = sol.x\n",
    "sol"
   ]
  },
  {
   "cell_type": "markdown",
   "id": "313a3224",
   "metadata": {},
   "source": [
    "Ahora graficaremos los polinomios y los errores"
   ]
  },
  {
   "cell_type": "code",
   "execution_count": 57,
   "id": "86db53b8",
   "metadata": {},
   "outputs": [
    {
     "data": {
      "image/png": "[encoded data removed]",
      "text/plain": [
       "<Figure size 576x432 with 1 Axes>"
      ]
     },
     "metadata": {
      "needs_background": "light"
     },
     "output_type": "display_data"
    }
   ],
   "source": [
    "xn = np.linspace(0, 21, 200)\n",
    "yn1 = resultados_1[0] + resultados_1[1]*xn\n",
    "yn2 = resultados_2[0] + resultados_2[1]*xn + resultados_2[2]*xn**2\n",
    "yn3 = resultados_3[0] + resultados_3[1]*xn + resultados_3[2]*xn**2 + resultados_3[3]*xn**3\n",
    "\n",
    "plt.figure(figsize=(8,6))\n",
    "plt.scatter(x, y, s=5)\n",
    "plt.plot(xn, yn1, label=\"Linea\")\n",
    "plt.plot(xn, yn2, label=\"Cuadr\")\n",
    "plt.plot(xn, yn3, label=\"Cubo\")\n",
    "plt.legend(loc=\"best\")\n",
    "plt.grid()"
   ]
  },
  {
   "cell_type": "code",
   "execution_count": null,
   "id": "5cade9fb",
   "metadata": {},
   "outputs": [],
   "source": [
    "plt.bar([1, 2, 3], [costo_1, costo_2, costo_3])\n",
    "plt.xlabel(\"Errores\")\n",
    "plt.ylabel(\"Error en puntos del deflactor\")"
   ]
  },
  {
   "cell_type": "markdown",
   "id": "9cc970dc",
   "metadata": {},
   "source": [
    "Se observa que, aunque el polinomio de tercer grado pareciera ser el mejor, aunque no es realmente cierto ya que en la función de optimización, el resultado arrojado fue insatisfactorio y el error se fue más lejos de lo deseado. Por lo que resuelta ser el de mejor  ajuste a la gráfica el polinomio de segundo grado, para poder describir el movimiento del deflactor del PIB.\n",
    "\n",
    "A continuación se definirá la función con los coeficientes de las Betas obtenidas en la función de optimización y se hará la predicción para 2021."
   ]
  },
  {
   "cell_type": "code",
   "execution_count": null,
   "id": "d8847746",
   "metadata": {},
   "outputs": [],
   "source": [
    "x = sp.var(\"x\")\n",
    "def f(x):\n",
    "    return 51.6129763+3.24135795*x+0.0473114384*x**2\n",
    "fs = f(x)\n",
    "fs"
   ]
  },
  {
   "cell_type": "markdown",
   "id": "78651659",
   "metadata": {},
   "source": [
    "Entonces si queremos predecir 2021, resolvamos con $x= 2021\\rightarrow x=21$"
   ]
  },
  {
   "cell_type": "code",
   "execution_count": null,
   "id": "af4529be",
   "metadata": {},
   "outputs": [],
   "source": [
    "f(21)"
   ]
  },
  {
   "cell_type": "code",
   "execution_count": null,
   "id": "1d75c7d8",
   "metadata": {},
   "outputs": [],
   "source": [
    "Error = 140.6097 - f(21)\n",
    "Error"
   ]
  },
  {
   "cell_type": "markdown",
   "id": "a393be1e",
   "metadata": {},
   "source": [
    "Observamos que es muy parecido y mantiene su tendencia contra el dato original que es de 140.6097."
   ]
  },
  {
   "cell_type": "markdown",
   "id": "de999fb3",
   "metadata": {},
   "source": [
    "El error entre el valor original y el valor que se predijo con el modelo es demasiado pequeño.\n",
    "\n",
    "Ahora vamos a predecir el año de 2022 y compararemos si nuestra predicción puede ser parecida a la del INEGI en ese año la cual es de un valor de 145.3919."
   ]
  },
  {
   "cell_type": "code",
   "execution_count": null,
   "id": "ca79c555",
   "metadata": {},
   "outputs": [],
   "source": [
    "f(22)"
   ]
  },
  {
   "cell_type": "code",
   "execution_count": null,
   "id": "94dd7d91",
   "metadata": {},
   "outputs": [],
   "source": [
    "Error = 145.3919 - f(22)\n",
    "Error"
   ]
  },
  {
   "cell_type": "markdown",
   "id": "720e7c77",
   "metadata": {},
   "source": [
    "En esta ocasion se sobreestimó el valor del deflactor y el error creció significativamente en casi medio punto del deflactor. Sin embargo cabe mencionar que ambas son estimaciones y aún no se han cumplido, puede que un modelo u otro sea el que tiene la razón."
   ]
  },
  {
   "cell_type": "markdown",
   "id": "9e768cd7",
   "metadata": {},
   "source": [
    "## Conclusiones"
   ]
  },
  {
   "cell_type": "markdown",
   "id": "45164946",
   "metadata": {},
   "source": [
    "1. Al estar creciendo el deflactor con una curva algo pronunciada podemos decir que el valor del PIB con respecto de 2013 está siendo cada vez menor, y el crecimiento se está quedando estancado.\n",
    "2. Los modelos de predicción aquí utilizados en comparación con los del INEGI no son tan distintos en cuanto a resultados, por lo que podemos concluir que los modelos polinomiales son efectivos en muchas ocasiones prácticas."
   ]
  },
  {
   "cell_type": "markdown",
   "id": "375c7318",
   "metadata": {},
   "source": [
    "# Referencias"
   ]
  },
  {
   "cell_type": "markdown",
   "id": "fb5f0ac9",
   "metadata": {},
   "source": [
    " https://www.transparenciapresupuestaria.gob.mx/work/models/PTP/Presupuesto/Programacion/Deflactores/Deflactores_PIB.xlsx \n",
    "    "
   ]
  },
  {
   "cell_type": "code",
   "execution_count": null,
   "id": "9cdca334",
   "metadata": {},
   "outputs": [],
   "source": []
  }
 ],
 "metadata": {
  "kernelspec": {
   "display_name": "Python 3 (ipykernel)",
   "language": "python",
   "name": "python3"
  },
  "language_info": {
   "codemirror_mode": {
    "name": "ipython",
    "version": 3
   },
   "file_extension": ".py",
   "mimetype": "text/x-python",
   "name": "python",
   "nbconvert_exporter": "python",
   "pygments_lexer": "ipython3",
   "version": "3.9.7"
  }
 },
 "nbformat": 4,
 "nbformat_minor": 5
}
